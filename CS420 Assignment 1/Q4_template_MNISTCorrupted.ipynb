{
  "cells": [
    {
      "cell_type": "markdown",
      "metadata": {
        "id": "y5niXr3T2K7d"
      },
      "source": [
        "### Question 4"
      ]
    },
    {
      "cell_type": "markdown",
      "metadata": {
        "id": "6EXa6DRW2ZyV"
      },
      "source": [
        "#### Import relevant packages"
      ]
    },
    {
      "cell_type": "code",
      "execution_count": null,
      "metadata": {
        "id": "Sgf1XoAoC2X2"
      },
      "outputs": [],
      "source": [
        "from matplotlib import pyplot as plt\n",
        "import tensorflow as tf\n",
        "from tensorflow.keras import layers"
      ]
    },
    {
      "cell_type": "markdown",
      "metadata": {
        "id": "MX5zcJj-2kMD"
      },
      "source": [
        "#### (a) Load the dataset `mnist_corrupted/zigzag` from `tensorflow_datasets`. [**2 points**]"
      ]
    },
    {
      "cell_type": "code",
      "execution_count": null,
      "metadata": {
        "id": "gvzpkwYGWKj0"
      },
      "outputs": [],
      "source": [
        "import tensorflow_datasets as tfds\n",
        "\n",
        "## write your code here\n",
        "dataset_name = \"mnist_corrupted/zigzag\"\n",
        "train_images, train_labels = tfds.as_numpy(tfds.load(\n",
        "    dataset_name,\n",
        "    split='train',\n",
        "    batch_size=-1,\n",
        "    as_supervised=True,\n",
        "))\n",
        "\n",
        "test_images, test_labels   = tfds.as_numpy(tfds.load(\n",
        "    dataset_name,\n",
        "    split='test',\n",
        "    batch_size=-1,\n",
        "    as_supervised=True,\n",
        "))"
      ]
    },
    {
      "cell_type": "code",
      "execution_count": null,
      "metadata": {
        "id": "puWf0H3Hj7Jr",
        "colab": {
          "base_uri": "https://localhost:8080/"
        },
        "outputId": "c2dd1e28-2e5c-402c-b180-4ec6225456bf"
      },
      "outputs": [
        {
          "output_type": "stream",
          "name": "stdout",
          "text": [
            "Image size: (28, 28, 1)\n",
            "Training data size: (60000, 28, 28, 1)\n",
            "Testing data size: (10000, 28, 28, 1)\n"
          ]
        }
      ],
      "source": [
        "# Test size of different loaded numpy arrays\n",
        "print('Image size:', train_images[0].shape)\n",
        "print('Training data size:',train_images.shape)\n",
        "print('Testing data size:', test_images.shape)"
      ]
    },
    {
      "cell_type": "markdown",
      "metadata": {
        "id": "aa-fkHXkqbr4"
      },
      "source": [
        "#### (b) Build a dense ANN with at least one hidden layer with at least two nodes. You should try different hyper parameter configurations to get the best performing ANN (atleast 90% accuracy). [**2 points**]"
      ]
    },
    {
      "cell_type": "code",
      "execution_count": null,
      "metadata": {
        "id": "JPRB2sVOHqEK"
      },
      "outputs": [],
      "source": [
        "model = tf.keras.Sequential()\n",
        "outputs = 10\n",
        "## write your code here to build your dense ANN. Input layer is created below\n",
        "model.add(layers.Flatten(input_shape=(train_images[0].shape)))\n",
        "model.add(layers.Dense(128, activation=tf.nn.relu))      # hidden layer\n",
        "model.add(layers.Dense(128, activation=tf.nn.relu))      # hidden layer\n",
        "model.add(layers.Dense(128, activation=tf.nn.relu))      # hidden layer\n",
        "model.add(layers.Dense(outputs, activation=tf.nn.softmax))   # output layer"
      ]
    },
    {
      "cell_type": "markdown",
      "metadata": {
        "id": "3jpiyjS6rMVZ"
      },
      "source": [
        "#### (c) Answer the following questions: [**1 point**]\n",
        "\n",
        "What is the size of your output layer? [10]\n",
        "\n",
        "What is the activation function of your output layer? [softmax]"
      ]
    },
    {
      "cell_type": "markdown",
      "metadata": {
        "id": "yTrcDebWsg7J"
      },
      "source": [
        "#### (d) Compile and train your model [**2 points**]\n",
        "\n",
        "What is the loss function you use? [sparse categorical crossentropy]"
      ]
    },
    {
      "cell_type": "code",
      "execution_count": null,
      "metadata": {
        "id": "TXNYaNBnJDof"
      },
      "outputs": [],
      "source": [
        "### write your code here to compile model\n",
        "# Compile the model with appropriate Loss function. metrics is something you can monitor (but model does not optimize metric)\n",
        "model.compile(optimizer=\"Adam\",\n",
        "              loss='sparse_categorical_crossentropy',\n",
        "              metrics=['accuracy'])"
      ]
    },
    {
      "cell_type": "code",
      "execution_count": null,
      "metadata": {
        "id": "iQ5oTF2XJFE6",
        "colab": {
          "base_uri": "https://localhost:8080/"
        },
        "outputId": "7388b32e-785c-4230-a509-56a9f4476aaa"
      },
      "outputs": [
        {
          "output_type": "stream",
          "name": "stdout",
          "text": [
            "Epoch 1/10\n",
            "1875/1875 [==============================] - 9s 4ms/step - loss: 1.2513 - accuracy: 0.8187\n",
            "Epoch 2/10\n",
            "1875/1875 [==============================] - 7s 4ms/step - loss: 0.3087 - accuracy: 0.9112\n",
            "Epoch 3/10\n",
            "1875/1875 [==============================] - 7s 4ms/step - loss: 0.2462 - accuracy: 0.9272\n",
            "Epoch 4/10\n",
            "1875/1875 [==============================] - 8s 4ms/step - loss: 0.2066 - accuracy: 0.9391\n",
            "Epoch 5/10\n",
            "1875/1875 [==============================] - 7s 4ms/step - loss: 0.1843 - accuracy: 0.9456\n",
            "Epoch 6/10\n",
            "1875/1875 [==============================] - 8s 4ms/step - loss: 0.1619 - accuracy: 0.9520\n",
            "Epoch 7/10\n",
            "1875/1875 [==============================] - 8s 4ms/step - loss: 0.1491 - accuracy: 0.9560\n",
            "Epoch 8/10\n",
            "1875/1875 [==============================] - 7s 4ms/step - loss: 0.1337 - accuracy: 0.9609\n",
            "Epoch 9/10\n",
            "1875/1875 [==============================] - 8s 4ms/step - loss: 0.1254 - accuracy: 0.9634\n",
            "Epoch 10/10\n",
            "1875/1875 [==============================] - 8s 4ms/step - loss: 0.1189 - accuracy: 0.9657\n"
          ]
        }
      ],
      "source": [
        "### write your code here to train your model\n",
        "# Run the stochastic gradient descent for specified epochs\n",
        "epochs = 10\n",
        "history = model.fit(train_images, train_labels, epochs=epochs)"
      ]
    },
    {
      "cell_type": "markdown",
      "metadata": {
        "id": "Bx80XJHjw2vI"
      },
      "source": [
        "#### (e) Plot the training loss across the different epochs [**1 point**]"
      ]
    },
    {
      "cell_type": "code",
      "execution_count": null,
      "metadata": {
        "id": "Gkv99m3swRmg",
        "colab": {
          "base_uri": "https://localhost:8080/",
          "height": 283
        },
        "outputId": "645b4408-b1f5-405f-d761-929087244555"
      },
      "outputs": [
        {
          "output_type": "execute_result",
          "data": {
            "text/plain": [
              "[<matplotlib.lines.Line2D at 0x7f0f19061bb0>]"
            ]
          },
          "metadata": {},
          "execution_count": 87
        },
        {
          "output_type": "display_data",
          "data": {
            "text/plain": [
              "<Figure size 432x288 with 1 Axes>"
            ],
            "image/png": "[encoded data removed]"
          },
          "metadata": {
            "needs_background": "light"
          }
        }
      ],
      "source": [
        "plt.plot(history.history['loss'])"
      ]
    },
    {
      "cell_type": "markdown",
      "metadata": {
        "id": "lx3JLnhQyQLZ"
      },
      "source": [
        "#### (f) What is the overall accuracy and per-class accuracy on test dataset? [**1 point**]"
      ]
    },
    {
      "cell_type": "code",
      "execution_count": null,
      "metadata": {
        "id": "ik44l59g6CoH",
        "colab": {
          "base_uri": "https://localhost:8080/"
        },
        "outputId": "932e7005-f098-41bd-ba6a-57f6f120ed2d"
      },
      "outputs": [
        {
          "output_type": "stream",
          "name": "stdout",
          "text": [
            "313/313 [==============================] - 1s 2ms/step - loss: 0.2172 - accuracy: 0.9526\n",
            "Test accuracy: 0.9526000022888184\n"
          ]
        }
      ],
      "source": [
        "#### write your code to report overall accuracy on test set\n",
        "test_loss, test_acc = model.evaluate(test_images, test_labels)\n",
        "print('Test accuracy:', test_acc)"
      ]
    },
    {
      "cell_type": "markdown",
      "metadata": {
        "id": "Sm9unSC26ag1"
      },
      "source": [
        "What is the overall accuracy? [0.95260]"
      ]
    },
    {
      "cell_type": "code",
      "execution_count": null,
      "metadata": {
        "id": "yvsWzN3gzxnk",
        "colab": {
          "base_uri": "https://localhost:8080/"
        },
        "outputId": "7f3ba3a6-753b-4d51-b04b-2e834ce02110"
      },
      "outputs": [
        {
          "output_type": "stream",
          "name": "stdout",
          "text": [
            "313/313 [==============================] - 1s 2ms/step\n",
            "[0.97959184 0.99207048 0.92926357 0.95049505 0.95315682 0.95852018\n",
            " 0.96033403 0.942607   0.95379877 0.90386521]\n",
            "0.9523702953063417\n"
          ]
        }
      ],
      "source": [
        "### write your code to report per-class accuracy\n",
        "### Use confusion matrix from sklearn.\n",
        "\n",
        "from sklearn.metrics import confusion_matrix\n",
        "import numpy as np\n",
        "\n",
        "test_predictions = model.predict(test_images)\n",
        "cm = confusion_matrix(test_labels, np.argmax(test_predictions,axis=1))\n",
        "per_class_accuracy = np.diag(cm) / cm.sum(axis=1)\n",
        "print(per_class_accuracy)\n",
        "print(np.mean(per_class_accuracy))"
      ]
    },
    {
      "cell_type": "markdown",
      "metadata": {
        "id": "4RxuEaspHcWY"
      },
      "source": [
        "**Code to visualize the predictions**"
      ]
    },
    {
      "cell_type": "code",
      "execution_count": null,
      "metadata": {
        "id": "7tceL6tDNPdT",
        "colab": {
          "base_uri": "https://localhost:8080/",
          "height": 589
        },
        "outputId": "a1da9f98-dae0-4266-bf94-abc41a1ab06d"
      },
      "outputs": [
        {
          "output_type": "display_data",
          "data": {
            "text/plain": [
              "<Figure size 720x720 with 25 Axes>"
            ],
            "image/png": "[encoded data removed]"
          },
          "metadata": {}
        }
      ],
      "source": [
        "import matplotlib.pyplot as plt\n",
        "%matplotlib inline\n",
        "class_names = ['0','1','2','3','4','5','6','7','8','9']\n",
        "plt.figure(figsize=(10,10))\n",
        "for i in range(25):\n",
        "    plt.subplot(5,5,i+1)\n",
        "    plt.xticks([])\n",
        "    plt.yticks([])\n",
        "    plt.grid(False)\n",
        "    plt.imshow(train_images[i].reshape(28, 28), cmap=plt.cm.binary)\n",
        "    #print(train_labels[i][0])\n",
        "    plt.xlabel(class_names[train_labels[i]])"
      ]
    }
  ],
  "metadata": {
    "colab": {
      "provenance": []
    },
    "kernelspec": {
      "display_name": "base",
      "language": "python",
      "name": "python3"
    },
    "language_info": {
      "codemirror_mode": {
        "name": "ipython",
        "version": 3
      },
      "file_extension": ".py",
      "mimetype": "text/x-python",
      "name": "python",
      "nbconvert_exporter": "python",
      "pygments_lexer": "ipython3",
      "version": "3.8.16"
    },
    "vscode": {
      "interpreter": {
        "hash": "2f949ff55ae5aadd9453b3efbb38494519927de22f9de01a4353edbb67394edb"
      }
    }
  },
  "nbformat": 4,
  "nbformat_minor": 0
}